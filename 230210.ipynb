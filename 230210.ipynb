{
 "cells": [
  {
   "cell_type": "markdown",
   "id": "cf787558",
   "metadata": {},
   "source": [
    "# 인디언식 이름 짓기"
   ]
  },
  {
   "cell_type": "code",
   "execution_count": 2,
   "id": "0226c0a4",
   "metadata": {},
   "outputs": [],
   "source": [
    "year = {\n",
    "   0: '시끄러운 또는 말 많은',\n",
    "   1: '푸른',\n",
    "   2: '어두운 -> 적색',\n",
    "   3: '조용한',\n",
    "   4: '웅크린',\n",
    "   5: '백색',\n",
    "   6: '지혜로운',\n",
    "   7: '용감한',\n",
    "   8: '날카로운',\n",
    "   9: '욕심많은'\n",
    "}\n",
    "\n",
    "month = {\n",
    "   1: '늑대', 2: '태양', 3: '양', 4: '매',\n",
    "   5: '황소', 6: '불꽃', 7: '나무', 8: '달빛',\n",
    "   9: '말', 10: '돼지', 11: '하늘', 12: '바람'\n",
    "}\n",
    "\n",
    "day = {\n",
    "   1: '와(과) 함께 춤을', 2: '의 기상', 3: '은(는) 그림자속에',\n",
    "   4: '', 5: '', 6: '',\n",
    "   7: '의 환생', 8: '의 죽음', 9: '의 아래에서',\n",
    "   10: '을(를) 보라', 11: '이(가) 노래하다', 12: '의 그늘 -> 그림자',\n",
    "   13: '의 일격', 14: '에게 쫓기는 남자', 15: '의 행진',\n",
    "   16: '의 왕', 17: '의 유령', 18: '을 죽인자',\n",
    "   19: '은(는) 맨날 잠 잔다', 20: '처럼', 21: '의 고향',\n",
    "   22: '의 전사', 23: '은(는) 나의 친구', 24: '의 노래',\n",
    "   25: '의 정령', 26: '의 파수꾼', 27: '의 악마',\n",
    "   28: '와(과) 같은 사나이', 29: '의 심판자 -> 을(를) 쓰러트린 자', 30: '의 혼',\n",
    "   31: '은(는) 말이 없다',\n",
    "}"
   ]
  },
  {
   "cell_type": "code",
   "execution_count": 26,
   "id": "151aab28",
   "metadata": {},
   "outputs": [
    {
     "name": "stdout",
     "output_type": "stream",
     "text": [
      "푸른달빛의 환생\n"
     ]
    }
   ],
   "source": [
    "#           0123456789\n",
    "birthday = '1971-08-07'\n",
    "\n",
    "y = birthday[3]\n",
    "\n",
    "y = birthday[birthday.find('-') - 1]\n",
    "m = birthday[5:7]\n",
    "m = birthday[birthday.find('-') + 1 : birthday.find(('-'), 5)] # ,인덱스여기서부터 찾아들어가겠다\n",
    "d = birthday[8:10]\n",
    "\n",
    "y, m, d\n",
    "\n",
    "year.get(int(y)), month.get(int(m)), day.get(int(d))\n",
    "\n",
    "print('%s%s%s' % #포멧팅\n",
    "      (year.get(int(y)), \n",
    "       month.get(int(m)), \n",
    "       day.get(int(d))\n",
    "      )\n",
    "     )"
   ]
  },
  {
   "cell_type": "code",
   "execution_count": 15,
   "id": "fec0170d",
   "metadata": {},
   "outputs": [
    {
     "name": "stdout",
     "output_type": "stream",
     "text": [
      "08\n",
      "07\n"
     ]
    }
   ],
   "source": [
    "# find로 찾아가는 방법\n",
    "\n",
    "#    0123456789\n",
    "s = '1971-08-07'\n",
    "s.find('-'), s.find('-', 5)\n",
    "첫번째 = s.find('-')\n",
    "두번째 = s.find('-', 첫번째 + 1)\n",
    "s[첫번째 : 두번째]    # -08이 나옴\n",
    "                    #일자 07이 출력되도록\n",
    "    \n",
    "월 = s[첫번째 + 1 : 두번째]  # -08이 아닌 08이 나오도록\n",
    "print(월)\n",
    "일 = s[두번째 + 1: ]\n",
    "print(일)"
   ]
  },
  {
   "cell_type": "code",
   "execution_count": 27,
   "id": "259eb16b",
   "metadata": {},
   "outputs": [],
   "source": [
    "import requests\n",
    "res = requests.get('https://newsapi.org/v2/top-headlines?country=kr&apiKey=9f5baf7d9f3f42879a20d7d19d9886e4')\n",
    "result = res.json()"
   ]
  },
  {
   "cell_type": "code",
   "execution_count": 38,
   "id": "90451787",
   "metadata": {
    "scrolled": true
   },
   "outputs": [
    {
     "name": "stdout",
     "output_type": "stream",
     "text": [
      "2023-02-10T00:29:03Z\n",
      "23년 02월 10일\n",
      "2023-02-10T00:29:00Z\n",
      "23년 02월 10일\n",
      "2023-02-10T00:18:31Z\n",
      "23년 02월 10일\n",
      "2023-02-10T00:09:40Z\n",
      "23년 02월 10일\n",
      "2023-02-10T00:09:35Z\n",
      "23년 02월 10일\n",
      "2023-02-10T00:00:15Z\n",
      "23년 02월 10일\n",
      "2023-02-09T23:21:55Z\n",
      "23년 02월 09일\n",
      "2023-02-09T23:19:59Z\n",
      "23년 02월 09일\n",
      "2023-02-09T23:16:22Z\n",
      "23년 02월 09일\n",
      "2023-02-09T23:07:17Z\n",
      "23년 02월 09일\n",
      "2023-02-09T23:00:25Z\n",
      "23년 02월 09일\n",
      "2023-02-09T23:00:00Z\n",
      "23년 02월 09일\n",
      "2023-02-09T22:32:27Z\n",
      "23년 02월 09일\n",
      "2023-02-09T22:18:00Z\n",
      "23년 02월 09일\n",
      "2023-02-09T22:02:30Z\n",
      "23년 02월 09일\n",
      "2023-02-09T22:00:03Z\n",
      "23년 02월 09일\n",
      "2023-02-09T21:42:59Z\n",
      "23년 02월 09일\n",
      "2023-02-09T21:19:23Z\n",
      "23년 02월 09일\n",
      "2023-02-09T21:17:07Z\n",
      "23년 02월 09일\n",
      "2023-02-09T21:11:00Z\n",
      "23년 02월 09일\n"
     ]
    }
   ],
   "source": [
    "articles = result.get('articles')\n",
    "for article in articles:\n",
    "    publishedAt = article.get(\n",
    "        'publishedAt')\n",
    "    print(publishedAt)\n",
    "    y = publishedAt[2:publishedAt.find('-')]\n",
    "    idx = publishedAt.find('-')\n",
    "    idx2 = publishedAt.find('-', idx+1)\n",
    "    m = publishedAt[idx+1:idx2]\n",
    "    \n",
    "    idx3 = publishedAt.find('T')\n",
    "    d = publishedAt[idx2+1 : idx3]\n",
    "    print('%s년 %s월 %s일' % (y, m, d))"
   ]
  },
  {
   "cell_type": "code",
   "execution_count": null,
   "id": "8a6227dd",
   "metadata": {},
   "outputs": [],
   "source": []
  },
  {
   "cell_type": "code",
   "execution_count": 39,
   "id": "208a8861",
   "metadata": {},
   "outputs": [
    {
     "data": {
      "text/plain": [
       "(['1971', '08', '07'], '1971')"
      ]
     },
     "execution_count": 39,
     "metadata": {},
     "output_type": "execute_result"
    }
   ],
   "source": [
    "s = '1971-08-07'\n",
    "s.split('-'), s.split('-')[0]"
   ]
  },
  {
   "cell_type": "markdown",
   "id": "c6c1b635",
   "metadata": {},
   "source": [
    "# 로또번호 가져오기"
   ]
  },
  {
   "cell_type": "code",
   "execution_count": 44,
   "id": "730158c3",
   "metadata": {},
   "outputs": [],
   "source": [
    "import requests\n",
    "res = requests.get(\n",
    "'https://dhlottery.co.kr/gameResult.do?method=byWin&wiselog=H_C_1_1')\n",
    "result = res.text"
   ]
  },
  {
   "cell_type": "code",
   "execution_count": 65,
   "id": "88d87f17",
   "metadata": {},
   "outputs": [
    {
     "name": "stdout",
     "output_type": "stream",
     "text": [
      "<strong>1053회</strong> 당첨결과</h4>\r\n",
      "\t\t\t\t\t<p class=\"desc\">(2023년 02월 04일 추첨)</p>\r\n",
      "\t\t\t\t\t<div class=\"nums\">\r\n",
      "\t\t\t\t\t\t<div class=\"num win\">\r\n",
      "\t\t\t\t\t\t\t<strong>당첨번호</strong>\r\n",
      "\t\t\t\t\t\t\t<p>\r\n",
      "\t\t\t\t\t\t\t\t<span class=\"ball_645 lrg ball3\">22</span>\r\n",
      "\t\t\t\t\t\t\t\t<span class=\"ball_645 lrg ball3\">26</span>\r\n",
      "\t\t\t\t\t\t\t\t<span class=\"ball_645 lrg ball3\">29</span>\r\n",
      "\t\t\t\t\t\t\t\t<span class=\"ball_645 lrg ball3\">30</span>\r\n",
      "\t\t\t\t\t\t\t\t<span class=\"ball_645 lrg ball4\">34</span>\r\n",
      "\t\t\t\t\t\t\t\t<span class=\"ball_645 lrg ball5\">45</span>\r\n",
      "\t\t\t\t\t\t\t</p>\r\n",
      "\t\t\t\t\t\t</div>\r\n",
      "\t\t\t\t\t\t<div class=\"\n"
     ]
    }
   ],
   "source": [
    "sidx = result.find('<strong>1053회</strong>')\n",
    "eidx = result.find('num bonus', sidx)\n",
    "result2 = result[sidx:eidx]\n",
    "print(result2)"
   ]
  },
  {
   "cell_type": "code",
   "execution_count": 66,
   "id": "9df343ae",
   "metadata": {},
   "outputs": [
    {
     "data": {
      "text/plain": [
       "'22'"
      ]
     },
     "execution_count": 66,
     "metadata": {},
     "output_type": "execute_result"
    }
   ],
   "source": [
    "sidx = result2.find('ball_645')\n",
    "sidx = result2.find('>', sidx)\n",
    "eidx = result2.find('<', sidx)\n",
    "result2[sidx+1 : eidx]"
   ]
  },
  {
   "cell_type": "code",
   "execution_count": 72,
   "id": "fb22867e",
   "metadata": {},
   "outputs": [
    {
     "name": "stdout",
     "output_type": "stream",
     "text": [
      "-1\n"
     ]
    },
    {
     "data": {
      "text/plain": [
       "'<strong>1053회</strong> 당첨결과</h4>\\r\\n\\t\\t\\t\\t\\t<p class=\"desc\">(2023년 02월 04일 추첨)</p>\\r\\n\\t\\t\\t\\t\\t<div class=\"nums\">\\r\\n\\t\\t\\t\\t\\t\\t<div class=\"num win\">\\r\\n\\t\\t\\t\\t\\t\\t\\t<strong>당첨번호</strong>\\r\\n\\t\\t\\t\\t\\t\\t\\t<p>\\r\\n\\t\\t\\t\\t\\t\\t\\t\\t<span class=\"ball_645 lrg ball3\">22</span>\\r\\n\\t\\t\\t\\t\\t\\t\\t\\t<span class=\"ball_645 lrg ball3\">26</span>\\r\\n\\t\\t\\t\\t\\t\\t\\t\\t<span class=\"ball_645 lrg ball3\">29</span>\\r\\n\\t\\t\\t\\t\\t\\t\\t\\t<span class=\"ball_645 lrg ball3\">30</span>\\r\\n\\t\\t\\t\\t\\t\\t\\t\\t<span class=\"ball_645 lrg ball4\">34</span>\\r\\n\\t\\t\\t\\t\\t\\t\\t\\t<span class=\"ball_645 lrg ball5\">45</span>\\r\\n\\t\\t\\t\\t\\t\\t\\t</p>\\r\\n\\t\\t\\t\\t\\t\\t</div>\\r\\n\\t\\t\\t\\t\\t\\t<div class='"
      ]
     },
     "execution_count": 72,
     "metadata": {},
     "output_type": "execute_result"
    }
   ],
   "source": [
    "sidx = result2.find('ball_645', eidx)\n",
    "print(sidx)\n",
    "sidx = result2.find('>', sidx)\n",
    "eidx = result2.find('<', sidx)\n",
    "result2[sidx+1 : eidx]"
   ]
  },
  {
   "cell_type": "code",
   "execution_count": 74,
   "id": "f082369f",
   "metadata": {},
   "outputs": [
    {
     "name": "stdout",
     "output_type": "stream",
     "text": [
      "22\n",
      "26\n",
      "29\n",
      "30\n",
      "34\n",
      "45\n"
     ]
    }
   ],
   "source": [
    "eidx = 0\n",
    "while True:\n",
    "    sidx = result2.find('ball_645', eidx)\n",
    "    if sidx == -1: break\n",
    "    sidx = result2.find('>', sidx)\n",
    "    eidx = result2.find('<', sidx)\n",
    "    print(result2[sidx+1 : eidx])"
   ]
  },
  {
   "cell_type": "code",
   "execution_count": 79,
   "id": "52eeb47d",
   "metadata": {},
   "outputs": [
    {
     "name": "stdout",
     "output_type": "stream",
     "text": [
      "1\n"
     ]
    }
   ],
   "source": [
    "num = 123 # 1 2 3\n",
    "일의자리 = num % 10\n",
    "십의자리 = num // 10 % 10\n",
    "백의자리 = num // 100% 10\n",
    "print(백의자리)"
   ]
  },
  {
   "cell_type": "code",
   "execution_count": 81,
   "id": "5e5eb0fd",
   "metadata": {},
   "outputs": [
    {
     "name": "stdout",
     "output_type": "stream",
     "text": [
      "3\n",
      "2\n",
      "1\n"
     ]
    }
   ],
   "source": [
    "num = 123 # 1 2 3\n",
    "n = num % 10\n",
    "print(n)\n",
    "\n",
    "num = num //10\n",
    "n = num % 10 \n",
    "print(n)\n",
    "\n",
    "num = num // 10\n",
    "n = num % 10\n",
    "print(n)"
   ]
  },
  {
   "cell_type": "code",
   "execution_count": 135,
   "id": "544cb95e",
   "metadata": {},
   "outputs": [
    {
     "name": "stdout",
     "output_type": "stream",
     "text": [
      "3\n",
      "2\n",
      "1\n"
     ]
    }
   ],
   "source": [
    "num = 123 # 1 2 3\n",
    "while True:\n",
    "    n = num % 10\n",
    "    print(n)\n",
    "    num = num //10\n",
    "    if num == 0 : break"
   ]
  },
  {
   "cell_type": "code",
   "execution_count": 89,
   "id": "5067494d",
   "metadata": {},
   "outputs": [
    {
     "name": "stdout",
     "output_type": "stream",
     "text": [
      "[1, 2, 3]\n",
      "6\n"
     ]
    }
   ],
   "source": [
    "num = 123\n",
    "temp = str(num)\n",
    "temp2 = list(temp)\n",
    "temp2\n",
    "print(list(map(int, temp2)))\n",
    "print(sum(list(map(int, temp2))))"
   ]
  },
  {
   "cell_type": "code",
   "execution_count": 106,
   "id": "b83f5f50",
   "metadata": {},
   "outputs": [
    {
     "data": {
      "text/plain": [
       "(11, 20)"
      ]
     },
     "execution_count": 106,
     "metadata": {},
     "output_type": "execute_result"
    }
   ],
   "source": [
    "page = 15 #10페이지는 오동작이 난다.->(page-1)를 식으로 적용\n",
    "# 시작 1, 마지막 10 과 같은 페이지 만들기\n",
    "\n",
    "시작 = (page-1) // 10 * 10 + 1\n",
    "마지막 = 시작 + 9\n",
    "시작, 마지막"
   ]
  },
  {
   "cell_type": "code",
   "execution_count": 103,
   "id": "69e14f08",
   "metadata": {},
   "outputs": [
    {
     "data": {
      "text/plain": [
       "(11, 20)"
      ]
     },
     "execution_count": 103,
     "metadata": {},
     "output_type": "execute_result"
    }
   ],
   "source": [
    "page = 12\n",
    "\n",
    "if page % 10 == 0:\n",
    "    시작 = page - 9\n",
    "    \n",
    "else:\n",
    "    시작 = page // 10 * 10 + 1\n",
    "    마지막 = 시작 + 9\n",
    "시작, 마지막"
   ]
  },
  {
   "cell_type": "code",
   "execution_count": 113,
   "id": "6dc72d28",
   "metadata": {},
   "outputs": [],
   "source": [
    "#폴더가 없으면 생성하기(부정에 부정 사용하는 사례)\n",
    "import os\n",
    "# if os.path.isdir('ggoreb') == False:\n",
    "#     os.mkdir('ggoreb')\n",
    "if not os.path.isdir('ggoreb'):\n",
    "    os.mkdir('ggoreb')"
   ]
  },
  {
   "cell_type": "code",
   "execution_count": 147,
   "id": "a273bbc8",
   "metadata": {},
   "outputs": [
    {
     "name": "stdout",
     "output_type": "stream",
     "text": [
      "c\n"
     ]
    }
   ],
   "source": [
    "#문자열의 가운데 출력하기(홀수일때, 짝수일때 구분!)\n",
    "\n",
    "#       01234\n",
    "text = 'abcde'  #홀수 => c\n",
    "center = len(text) // 2\n",
    "if len(text) % 2 != 0:\n",
    "    print(text[center])#홀수일때\n",
    "else:\n",
    "#                   2  :  4\n",
    "    print(text[center-1:center+1])#짝수일때"
   ]
  },
  {
   "cell_type": "code",
   "execution_count": 119,
   "id": "e20fd031",
   "metadata": {},
   "outputs": [
    {
     "name": "stdout",
     "output_type": "stream",
     "text": [
      "19\n"
     ]
    }
   ],
   "source": [
    "count = 0\n",
    "for i in range(1, 101):\n",
    "    if '3' in str(i):\n",
    "        count = count + 1\n",
    "print(count)"
   ]
  },
  {
   "cell_type": "code",
   "execution_count": 175,
   "id": "e6a7d9ff",
   "metadata": {},
   "outputs": [
    {
     "name": "stdout",
     "output_type": "stream",
     "text": [
      "1\n",
      "2\n",
      "3\n",
      "4\n",
      "5\n",
      "6\n",
      "7\n",
      "8\n",
      "9\n",
      "0\n",
      "1\n",
      "1\n",
      "1\n",
      "2\n",
      "1\n",
      "3\n",
      "1\n",
      "4\n",
      "1\n",
      "5\n",
      "1\n",
      "6\n",
      "1\n",
      "7\n",
      "1\n",
      "8\n",
      "1\n",
      "9\n",
      "1\n",
      "0\n",
      "2\n",
      "1\n",
      "2\n",
      "2\n",
      "2\n",
      "3\n",
      "2\n",
      "4\n",
      "2\n",
      "5\n",
      "2\n",
      "6\n",
      "2\n",
      "7\n",
      "2\n",
      "8\n",
      "2\n",
      "9\n",
      "2\n",
      "0\n",
      "3\n",
      "1\n",
      "3\n",
      "2\n",
      "3\n",
      "3\n",
      "3\n",
      "4\n",
      "3\n",
      "5\n",
      "3\n",
      "6\n",
      "3\n",
      "7\n",
      "3\n",
      "8\n",
      "3\n",
      "9\n",
      "3\n",
      "0\n",
      "4\n",
      "1\n",
      "4\n",
      "2\n",
      "4\n",
      "3\n",
      "4\n",
      "4\n",
      "4\n",
      "5\n",
      "4\n",
      "6\n",
      "4\n",
      "7\n",
      "4\n",
      "8\n",
      "4\n",
      "9\n",
      "4\n",
      "0\n",
      "5\n",
      "1\n",
      "5\n",
      "2\n",
      "5\n",
      "3\n",
      "5\n",
      "4\n",
      "5\n",
      "5\n",
      "5\n",
      "6\n",
      "5\n",
      "7\n",
      "5\n",
      "8\n",
      "5\n",
      "9\n",
      "5\n",
      "0\n",
      "6\n",
      "1\n",
      "6\n",
      "2\n",
      "6\n",
      "3\n",
      "6\n",
      "4\n",
      "6\n",
      "5\n",
      "6\n",
      "6\n",
      "6\n",
      "7\n",
      "6\n",
      "8\n",
      "6\n",
      "9\n",
      "6\n",
      "0\n",
      "7\n",
      "1\n",
      "7\n",
      "2\n",
      "7\n",
      "3\n",
      "7\n",
      "4\n",
      "7\n",
      "5\n",
      "7\n",
      "6\n",
      "7\n",
      "7\n",
      "7\n",
      "8\n",
      "7\n",
      "9\n",
      "7\n",
      "0\n",
      "8\n",
      "1\n",
      "8\n",
      "2\n",
      "8\n",
      "3\n",
      "8\n",
      "4\n",
      "8\n",
      "5\n",
      "8\n",
      "6\n",
      "8\n",
      "7\n",
      "8\n",
      "8\n",
      "8\n",
      "9\n",
      "8\n",
      "0\n",
      "9\n",
      "1\n",
      "9\n",
      "2\n",
      "9\n",
      "3\n",
      "9\n",
      "4\n",
      "9\n",
      "5\n",
      "9\n",
      "6\n",
      "9\n",
      "7\n",
      "9\n",
      "8\n",
      "9\n",
      "9\n",
      "9\n",
      "0\n",
      "0\n",
      "1\n"
     ]
    }
   ],
   "source": [
    "for i in range(1, 101):\n",
    "    num = i\n",
    "    while True:\n",
    "        n = num % 10\n",
    "        print(n)\n",
    "        num = num //10\n",
    "        if num == 0 : break\n",
    "            "
   ]
  },
  {
   "cell_type": "code",
   "execution_count": 178,
   "id": "ca572e02",
   "metadata": {},
   "outputs": [
    {
     "name": "stdout",
     "output_type": "stream",
     "text": [
      "{0: 11, 1: 21, 2: 20, 3: 20, 4: 20, 5: 20, 6: 20, 7: 20, 8: 20, 9: 20}\n"
     ]
    }
   ],
   "source": [
    "count={ x:0 for x in range(0,10) }\n",
    "\n",
    "for x in range(1,101):\n",
    "    for i in str(x):\n",
    "        count[int(i)]+=1\n",
    "\n",
    "print(count)"
   ]
  },
  {
   "cell_type": "code",
   "execution_count": 183,
   "id": "3f17896e",
   "metadata": {},
   "outputs": [
    {
     "name": "stdout",
     "output_type": "stream",
     "text": [
      "3\n",
      "13\n",
      "23\n",
      "30\n",
      "31\n",
      "32\n",
      "33\n",
      "34\n",
      "35\n",
      "36\n",
      "37\n",
      "38\n",
      "39\n",
      "43\n",
      "53\n",
      "63\n",
      "73\n",
      "83\n",
      "93\n",
      "갯수 19\n"
     ]
    }
   ],
   "source": [
    "count = 0\n",
    "for i in range(1, 101):\n",
    "    if '3' in str(i):\n",
    "        print(i)\n",
    "for i in range(1,101):\n",
    "    if '3' in str(i):\n",
    "        count += 1\n",
    "   \n",
    "print(\"갯수\",count)"
   ]
  },
  {
   "cell_type": "code",
   "execution_count": 5,
   "id": "e2aa36cb",
   "metadata": {},
   "outputs": [
    {
     "data": {
      "text/plain": [
       "1"
      ]
     },
     "execution_count": 5,
     "metadata": {},
     "output_type": "execute_result"
    }
   ],
   "source": [
    "# count()\n",
    "['3'].count('3')"
   ]
  },
  {
   "cell_type": "code",
   "execution_count": 4,
   "id": "1f48357c",
   "metadata": {},
   "outputs": [
    {
     "data": {
      "text/plain": [
       "(['3'], ['3', '3'])"
      ]
     },
     "execution_count": 4,
     "metadata": {},
     "output_type": "execute_result"
    }
   ],
   "source": [
    "list('3'), list('33') # str(i)"
   ]
  },
  {
   "cell_type": "code",
   "execution_count": 7,
   "id": "838fafac",
   "metadata": {
    "scrolled": true
   },
   "outputs": [
    {
     "name": "stdout",
     "output_type": "stream",
     "text": [
      "개수 : 20\n"
     ]
    }
   ],
   "source": [
    "count = 0\n",
    "\n",
    "for i in range(1, 101):\n",
    "    count += list(str(i)).count('3')\n",
    "#     if '3' in str(i):\n",
    "#         count += 1\n",
    "print('개수 : %s' % count)"
   ]
  },
  {
   "cell_type": "code",
   "execution_count": 19,
   "id": "fe93922f",
   "metadata": {},
   "outputs": [
    {
     "name": "stdout",
     "output_type": "stream",
     "text": [
      "20\n"
     ]
    }
   ],
   "source": [
    "count = 0\n",
    "\n",
    "for i in range(1, 101):\n",
    "    count += list(str(i)).count('3')\n",
    "print(count)"
   ]
  },
  {
   "cell_type": "markdown",
   "id": "571db825",
   "metadata": {},
   "source": [
    "# 소나기 칡 찾기"
   ]
  },
  {
   "cell_type": "code",
   "execution_count": 12,
   "id": "f97e3fae",
   "metadata": {},
   "outputs": [],
   "source": [
    "import requests\n",
    "res = requests.get('http://ggoreb.com/quiz/소나기.txt')\n",
    "res.text\n",
    "res.encoding = None\n",
    "text = res.text"
   ]
  },
  {
   "cell_type": "code",
   "execution_count": 17,
   "id": "2296b501",
   "metadata": {},
   "outputs": [
    {
     "name": "stdout",
     "output_type": "stream",
     "text": [
      "칡덩굴이 엉키어 꽃을 달고 있었다.\n",
      "칡덩굴을 그러쥐었다.\n",
      "칡덩굴 있는 데로 내려가, 꽃많이 달린 몇 줄기를 이빨로 끊어 가지고 올라온다.\n"
     ]
    }
   ],
   "source": [
    "위치 = 0\n",
    "while True:\n",
    "    위치 = text.find('칡', 위치)\n",
    "    마침표 = text.find('.', 위치)\n",
    "    if 위치 == -1: break\n",
    "    print(text[위치:마침표 + 1].replace('\\n', ''))\n",
    "    위치 = 위치 + 1"
   ]
  }
 ],
 "metadata": {
  "kernelspec": {
   "display_name": "Python 3 (ipykernel)",
   "language": "python",
   "name": "python3"
  },
  "language_info": {
   "codemirror_mode": {
    "name": "ipython",
    "version": 3
   },
   "file_extension": ".py",
   "mimetype": "text/x-python",
   "name": "python",
   "nbconvert_exporter": "python",
   "pygments_lexer": "ipython3",
   "version": "3.11.1"
  }
 },
 "nbformat": 4,
 "nbformat_minor": 5
}
